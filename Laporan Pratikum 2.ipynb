{
 "cells": [
  {
   "cell_type": "markdown",
   "id": "5f46cc87-b81a-4c22-8b19-989fb71679b8",
   "metadata": {},
   "source": [
    "## Import Library"
   ]
  },
  {
   "cell_type": "code",
   "execution_count": 2,
   "id": "211d463d-21d7-4cf0-b2ca-d00edec46c74",
   "metadata": {},
   "outputs": [],
   "source": [
    "import cv2\n",
    "import numpy as np\n",
    "#202331010_Maulana Hasbi Nofelin"
   ]
  },
  {
   "cell_type": "markdown",
   "id": "e272185b-418a-4de2-818c-47e7b89988bd",
   "metadata": {},
   "source": [
    "## Membaca Citra"
   ]
  },
  {
   "cell_type": "code",
   "execution_count": 3,
   "id": "60ab8af1-d0f0-4e54-b194-b7b40fe30c49",
   "metadata": {},
   "outputs": [],
   "source": [
    "citra = cv2.imread('semangka.jpg')\n",
    "#202331010_Maulana Hasbi Nofelin"
   ]
  },
  {
   "cell_type": "code",
   "execution_count": 4,
   "id": "d00dfe03-a584-4c7a-b2b0-7c17e3987d4a",
   "metadata": {},
   "outputs": [],
   "source": [
    "cv2.imshow(\"citra asli\", citra)\n",
    "cv2.waitKey()\n",
    "cv2.destroyAllWindows()"
   ]
  },
  {
   "cell_type": "markdown",
   "id": "92df7667-c6e5-4acf-934e-950632e09074",
   "metadata": {},
   "source": [
    "## Dimensi Citra"
   ]
  },
  {
   "cell_type": "code",
   "execution_count": 5,
   "id": "ae18490f-574e-4c9c-b8c8-c5b27289f43e",
   "metadata": {
    "jupyter": {
     "source_hidden": true
    }
   },
   "outputs": [
    {
     "name": "stdout",
     "output_type": "stream",
     "text": [
      "(640, 591, 3)\n",
      "uint8\n"
     ]
    }
   ],
   "source": [
    "print(citra.shape)\n",
    "print(citra.dtype)\n",
    "#202331010_Maulana Hasbi Nofelin"
   ]
  },
  {
   "cell_type": "markdown",
   "id": "84179aa1-0023-4fe0-859c-81b2a4949f72",
   "metadata": {},
   "source": [
    "## Splitting Citra RGB/BGR"
   ]
  },
  {
   "cell_type": "code",
   "execution_count": 7,
   "id": "0b49243c-97f3-4f1a-a462-5065c11ee157",
   "metadata": {},
   "outputs": [],
   "source": [
    "b = citra[:,:,0]\n",
    "g = citra[:,:,1]\n",
    "r = citra[:,:,2]\n",
    "#202331010_Maulana Hasbi Nofelin"
   ]
  },
  {
   "cell_type": "markdown",
   "id": "d073c501-fa8f-429c-8232-12023aca4ae5",
   "metadata": {},
   "source": [
    "## RGB to Grayscale"
   ]
  },
  {
   "cell_type": "code",
   "execution_count": 8,
   "id": "1df4709e-eed5-4f52-b076-29baf99d168e",
   "metadata": {},
   "outputs": [],
   "source": [
    "panjang = len(citra)\n",
    "lebar = len(citra[0])\n",
    "\n",
    "citra_gray = np.zeros((panjang,lebar))\n",
    "\n",
    "for i in range (panjang):\n",
    "    for j in range (lebar):\n",
    "        citra_gray[i,j] = 0.2989 * r[i,j] + 0.587 * g[i,j] + 0.1141 * b[i,j] #merah= 29,89% ; hijau 58,7% ; biru = 11,41%\n",
    "\n",
    "citra_gray = citra_gray.astype(np.uint8)\n",
    "\n",
    "cv2.imshow(\"citra gray\", citra_gray)\n",
    "cv2.waitKey()\n",
    "cv2.destroyAllWindows()\n",
    "#202331010_Maulana Hasbi Nofelin"
   ]
  },
  {
   "cell_type": "code",
   "execution_count": 11,
   "id": "5079b2bb-c576-4f79-b3a8-1e049c29b99f",
   "metadata": {},
   "outputs": [
    {
     "name": "stdout",
     "output_type": "stream",
     "text": [
      "[[[255 255 255]\n",
      "  [255 255 255]\n",
      "  [255 255 255]\n",
      "  ...\n",
      "  [255 255 255]\n",
      "  [255 255 255]\n",
      "  [255 255 255]]\n",
      "\n",
      " [[255 255 255]\n",
      "  [255 255 255]\n",
      "  [255 255 255]\n",
      "  ...\n",
      "  [255 255 255]\n",
      "  [255 255 255]\n",
      "  [255 255 255]]\n",
      "\n",
      " [[255 255 255]\n",
      "  [255 255 255]\n",
      "  [255 255 255]\n",
      "  ...\n",
      "  [255 255 255]\n",
      "  [255 255 255]\n",
      "  [255 255 255]]\n",
      "\n",
      " ...\n",
      "\n",
      " [[255 255 255]\n",
      "  [255 255 255]\n",
      "  [255 255 255]\n",
      "  ...\n",
      "  [255 255 255]\n",
      "  [255 255 255]\n",
      "  [255 255 255]]\n",
      "\n",
      " [[255 255 255]\n",
      "  [255 255 255]\n",
      "  [255 255 255]\n",
      "  ...\n",
      "  [255 255 255]\n",
      "  [255 255 255]\n",
      "  [255 255 255]]\n",
      "\n",
      " [[255 255 255]\n",
      "  [255 255 255]\n",
      "  [255 255 255]\n",
      "  ...\n",
      "  [255 255 255]\n",
      "  [255 255 255]\n",
      "  [255 255 255]]]\n"
     ]
    }
   ],
   "source": [
    "print(citra)"
   ]
  },
  {
   "cell_type": "code",
   "execution_count": 12,
   "id": "8f19b190-a4df-4bc8-b58c-29923a01ebf0",
   "metadata": {},
   "outputs": [
    {
     "name": "stdout",
     "output_type": "stream",
     "text": [
      "[[254 254 254 ... 254 254 254]\n",
      " [254 254 254 ... 254 254 254]\n",
      " [254 254 254 ... 254 254 254]\n",
      " ...\n",
      " [254 254 254 ... 254 254 254]\n",
      " [254 254 254 ... 254 254 254]\n",
      " [254 254 254 ... 254 254 254]]\n"
     ]
    }
   ],
   "source": [
    "print(citra_gray)"
   ]
  },
  {
   "cell_type": "markdown",
   "id": "28e2ef0a-07eb-4d1c-b22f-89b8f35433f1",
   "metadata": {},
   "source": [
    "## Grayscale to Binary"
   ]
  },
  {
   "cell_type": "code",
   "execution_count": 9,
   "id": "a6ec68d7-e17d-496f-aa1c-2ea032419761",
   "metadata": {},
   "outputs": [],
   "source": [
    "panjang = len(citra)\n",
    "lebar = len(citra[0])\n",
    "\n",
    "ambang = 90\n",
    "\n",
    "citra_biner = np.zeros((panjang,lebar))\n",
    "\n",
    "for i in range (panjang):\n",
    "    for j in range (lebar):\n",
    "        if citra_gray[i,j] >= ambang:\n",
    "            citra_biner[i,j] = 1 #putih\n",
    "        else:\n",
    "            citra_biner[i,j] = 0 #hitam\n",
    "\n",
    "cv2.imshow(\"citra binary\", citra_biner)\n",
    "cv2.waitKey()\n",
    "cv2.destroyAllWindows()\n",
    "#202331010_Maulana Hasbi Nofelin"
   ]
  },
  {
   "cell_type": "code",
   "execution_count": 13,
   "id": "63ee0416-6ad6-417f-9624-e954478d3c37",
   "metadata": {},
   "outputs": [
    {
     "name": "stdout",
     "output_type": "stream",
     "text": [
      "[[1. 1. 1. ... 1. 1. 1.]\n",
      " [1. 1. 1. ... 1. 1. 1.]\n",
      " [1. 1. 1. ... 1. 1. 1.]\n",
      " ...\n",
      " [1. 1. 1. ... 1. 1. 1.]\n",
      " [1. 1. 1. ... 1. 1. 1.]\n",
      " [1. 1. 1. ... 1. 1. 1.]]\n"
     ]
    }
   ],
   "source": [
    "print(citra_biner)"
   ]
  },
  {
   "cell_type": "code",
   "execution_count": 10,
   "id": "34e56f39-4ba9-43dc-a446-6cdb3b60e085",
   "metadata": {},
   "outputs": [
    {
     "name": "stdout",
     "output_type": "stream",
     "text": [
      "1.0\n"
     ]
    }
   ],
   "source": [
    "print(citra_biner[50,50])\n",
    "#202331010_Maulana Hasbi Nofelin"
   ]
  }
 ],
 "metadata": {
  "kernelspec": {
   "display_name": "Python 3 (ipykernel)",
   "language": "python",
   "name": "python3"
  },
  "language_info": {
   "codemirror_mode": {
    "name": "ipython",
    "version": 3
   },
   "file_extension": ".py",
   "mimetype": "text/x-python",
   "name": "python",
   "nbconvert_exporter": "python",
   "pygments_lexer": "ipython3",
   "version": "3.12.7"
  }
 },
 "nbformat": 4,
 "nbformat_minor": 5
}
